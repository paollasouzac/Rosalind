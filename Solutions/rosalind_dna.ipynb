{
 "cells": [
  {
   "cell_type": "code",
   "execution_count": 2,
   "metadata": {
    "colab": {
     "base_uri": "https://localhost:8080/"
    },
    "executionInfo": {
     "elapsed": 3,
     "status": "ok",
     "timestamp": 1664808738980,
     "user": {
      "displayName": "Paolla Souza",
      "userId": "12769223013269546818"
     },
     "user_tz": 180
    },
    "id": "5q2mdG_gVKJ7",
    "outputId": "29b63a66-2f39-40b3-bd30-1389ff03d46b"
   },
   "outputs": [
    {
     "name": "stdout",
     "output_type": "stream",
     "text": [
      "CAGCGCCAACATAGAGGAGTTTACGACCTATAGACGGGACGGCGAATCTGCGTCACCTCTGGGTGTTCCCTGCTCTCTCATGTCAGATACGCTCGGGGCCGGTCAGCCTACAGTGGGTAGCAGTGAGCACTTGTCATCTTCTGCACTCCGTAGGTCGGGAGTCTTTCTGATAGAGTGCAAAACTCTCTTCAAGAACGCTCGCCGCTCATACGTTGTCTTGATATAGTCGCATAAAAGTTCTCATGTGACACATACTAGATGACCAAATTGTTCACCGCGACGCTTTGAAGCCAGGAAGCGAGCCTTGCTGGGTGCACCTGGAGCCCGTATCCTCTATATACACCGGTGACTTATCTTCTACCTTACTGGGAGCTCACTAGGAGAGCTAACACGCGTTTTAGTCTACGACACTTTAGTCATCAATGCAGAGGTGCCAAGGTAAGAAGTACCGATCTCATCAGTATGGACAGATGGCCCCAATTAATGGCGACACGCTATACAGAGGACGGGAACAACTGACAACTATTGACAACATCGTGACAAGTGTGAGTTGCGAAATGCGAGTTTTTGAAGTAGAAACCGTAATAAATAGACAGCCCGTTGACATTGCCGCGTCAGTCTGTAAAGTCCGCTTTCATGTAATGTGGCTCAACCGGTCCAGTAATAAACCTCGTCCTACCTATAGGAGTCATCTGCTACTACTCGAGTCACAGAACCCAAATAAGCCGGGTAGTCGCTTTATCACATCGTTTTGTAGAACAACAGTATGTCAGAAGACTAGCAGTGTAATTACAGAGATGCTGCGCGGCGACCTTTAGATGTTTCCTGTTTGTGCCGGTTTTATCGTCCTAAGAGGAAGGAGGTGTTAATGCTGGCCTACGAGCTCCTAACTATAACGTCATTGCCATGACTTGGATAACATTAGGAACTTGC\n",
      "\n"
     ]
    }
   ],
   "source": [
    "#Open the input file\n",
    "with open(r\"C:\\Users\\souza\\Documents\\GitHub\\Rosalind\\Data\\rosalind_dna.txt\") as f:\n",
    "    data = f.read() # Read all file in case values are not on a single line\n",
    "    print(data)"
   ]
  },
  {
   "cell_type": "code",
   "execution_count": 7,
   "metadata": {
    "id": "hCv3XodY_0xp"
   },
   "outputs": [
    {
     "name": "stdout",
     "output_type": "stream",
     "text": [
      "20 12 17 21\n"
     ]
    }
   ],
   "source": [
    "#Method 1: FOR loops\n",
    "example = 'AGCTTTTCATTCTGACTGCAACGGGCAATATGTCTCTGTGTGGATTAAAAAAAGAGTGTCTGATAGCAGC'\n",
    "nucleotide_A = 0\n",
    "nucleotide_T = 0\n",
    "nucleotide_C = 0\n",
    "nucleotide_G = 0\n",
    "\n",
    "for i in example:\n",
    "  if i == 'A':\n",
    "    nucleotide_A += 1\n",
    "  elif i == 'T':\n",
    "    nucleotide_T += 1\n",
    "  elif i == 'C':\n",
    "    nucleotide_C += 1\n",
    "  elif i == 'G':\n",
    "    nucleotide_G += 1\n",
    "        \n",
    "print(nucleotide_A, nucleotide_C, nucleotide_G, nucleotide_T)"
   ]
  },
  {
   "cell_type": "code",
   "execution_count": 8,
   "metadata": {
    "colab": {
     "base_uri": "https://localhost:8080/"
    },
    "executionInfo": {
     "elapsed": 5,
     "status": "ok",
     "timestamp": 1664808801884,
     "user": {
      "displayName": "Paolla Souza",
      "userId": "12769223013269546818"
     },
     "user_tz": 180
    },
    "id": "MQowBM8v-9Mq",
    "outputId": "b360cc53-fc02-4045-d763-f84f51c3eaf2"
   },
   "outputs": [
    {
     "name": "stdout",
     "output_type": "stream",
     "text": [
      "245 240 224 224\n"
     ]
    }
   ],
   "source": [
    "#Method 2: Dictionary\n",
    "nucl = {}\n",
    "for i in data:\n",
    "  if i in nucl:\n",
    "    nucl[i] += 1\n",
    "  else:\n",
    "    nucl[i] = 1\n",
    "print(nucl[\"A\"], nucl[\"T\"], nucl[\"C\"], nucl[\"G\"])"
   ]
  }
 ],
 "metadata": {
  "colab": {
   "authorship_tag": "ABX9TyPx1CKVy5wOKwSvCAEG4iGb",
   "provenance": []
  },
  "kernelspec": {
   "display_name": "Python 3 (ipykernel)",
   "language": "python",
   "name": "python3"
  },
  "language_info": {
   "codemirror_mode": {
    "name": "ipython",
    "version": 3
   },
   "file_extension": ".py",
   "mimetype": "text/x-python",
   "name": "python",
   "nbconvert_exporter": "python",
   "pygments_lexer": "ipython3",
   "version": "3.9.12"
  }
 },
 "nbformat": 4,
 "nbformat_minor": 4
}
