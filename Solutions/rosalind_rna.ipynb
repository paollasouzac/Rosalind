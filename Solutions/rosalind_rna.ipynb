{
  "cells": [
    {
      "cell_type": "markdown",
      "source": [
        "##Problem: DNA --> RNA\n",
        "\n",
        "An RNA string is a string formed from the alphabet containing 'A', 'C', 'G', and 'U'.\n",
        "\n",
        "Given a DNA string t\n",
        "corresponding to a coding strand, its transcribed RNA string u is formed by replacing all occurrences of 'T' in t with 'U' in u\n",
        "\n",
        "Given: A DNA string t having length at most 1000 nt.\n",
        "\n",
        "Return: The transcribed RNA string of t\n",
        "\n",
        "Sample Dataset: GATGGAACTTGACTACGTAAATT\n",
        "Sample Output: GAUGGAACUUGACUACGUAAAUU"
      ],
      "metadata": {
        "id": "39n3iZbKyT-R"
      }
    },
    {
      "cell_type": "code",
      "execution_count": null,
      "metadata": {
        "id": "titBI3LkPGPS"
      },
      "outputs": [],
      "source": [
        "seq = '''CRWTWWCTTGAYTYYCGGAGTTTGATCAGCAATGGTAGGTACAGCATTTAGAGTGTTAATCCGGCTAGAACTA\n",
        "GGCCAACCAGGAAGATTTATTGGAGACGACCAAATCTATAATGTTATAGTTACCGCCCATGCTTTTATTATAATCTTCTT\n",
        "CATAGTTATACCAATCATAATTGGTGGCTTTGGTAACTGATTAGTGCCTTTAATAATTGGAGCCCCAGACATAGCCTTCC\n",
        "CACGAATAAATAACATAAGTTTCTGATTACTTCCCCCATCTCTAATTCTTTTATTAATAGGAGGATTAGTAGAAAGTGGT\n",
        "GCAGGAACTGGTTGAACAGTTTACCCCCCTTTAGCCAGAAATATCGCCCATGCTGGAGCTTCTGTAGATTTATCTATTTT\n",
        "CAGCCTTCATCTTGCAGGTGCTTCTTCTATTTTAGGTGCAATTAACTTTATTACTACAACAATTAATATACGCTCCCCAG\n",
        "GTATTTACTGGGATCAAATACCATTATTTGTTTGATCCGTACTATTAACCGCAATCCTATTGCTCCTATCCCTCCCGGTT\n",
        "CTAGCAGGAGCTATTACTATACTTCTAACAGATCGAAATTTAAACACATCTTTTTTTGACCCTGCAGGTGGAGGGGATCC\n",
        "CATTCTTTATCAACATTTATTCTGATTTTTTGGTCMCCYKGAAAGRWAAAAAAAAAAAA'''\n"
      ]
    },
    {
      "cell_type": "code",
      "source": [
        "from google.colab import files\n",
        "seq = open('/content/drive/MyDrive/Rosalind/rosalind_rna.txt', 'r').readline().rstrip()\n",
        "#readline = lê linha por linha\n",
        "#rstrip ou strip = retira a quebra de linha"
      ],
      "metadata": {
        "id": "YZf1MUFn2D1T"
      },
      "execution_count": null,
      "outputs": []
    },
    {
      "cell_type": "code",
      "source": [
        "seq"
      ],
      "metadata": {
        "colab": {
          "base_uri": "https://localhost:8080/",
          "height": 177
        },
        "id": "zkVCV-a129RL",
        "outputId": "6861a998-8ab5-4147-ce1f-d98736ffdf51"
      },
      "execution_count": null,
      "outputs": [
        {
          "output_type": "execute_result",
          "data": {
            "text/plain": [
              "'ATCGCGGACATGGGAAGGTGCCTTTTCGATCTCACGAAAAGACGCGCGTCATCCGGTAAGAGCTGCGGGCCACTAACCACGGCTGACGATAGTACATAATCCGACGTGTGTCATTACACGGGGGGGCATACTACATCAATTAGTTCACCTGAGGGGTTCATAATGTACGGACTCTTATCGATCAGTTGTTTTCCGAATAGACCACTGCCTTGCACGACGTTCAACGTGAATTTAGATCGTCACCTGACACCCATGAGACACCCCAGAGTGCTGGTCTTGCACCTAGTCACTCTTGGTGGTCTGAACGTCCGCCAGGAGACATAGGCCGTACTTGAGCAATAACTTGGCGTGTGGCACGCAATAGGCGGAACCCCGCGAGATTTACGTTGGCTCAATCGAGCACTTTATCGAAGGACACTATCCTCTACTGTTCTCGCAATCGGTATTCAATGGCGCCCAACACCGGGCCAGTTTTTCTTAGTGATACATATCACACCATAATGCGCTTATTTACACCACGGCCCCATCTTTTAGCAGCGACATCGTGGATGTTCAAGTAGGCCACGTTTGTAATTCTGTTAGAGCACCTAGACCCACCCAGCCTGGGTAACGGCCTGAAGCTTCCCTATCAGCTTGAAGCTACTAGACGCTTGGTGGGTCGCCTGGTAACTAATACAACCGCGCCTTAATACAGCTGGGAGCGGTAACGGTGTAAGGTGCCCGTTTCCCGGCGGAACTAGGACCTCGCGTGTTATATTGACAGCTACGCGCACGCTGCCTCAAGCGCCCCCTCTGTGTTGAAAGGTCCAGGCGTACTAGTTGACATAGGTGCTCGTCAAAACTCACCATGGATCTGGGCGATCTACAGCAGGTAAGAATTCTAGGGTCTATACATTAAGAACGGGTCGTCGACA'"
            ],
            "application/vnd.google.colaboratory.intrinsic+json": {
              "type": "string"
            }
          },
          "metadata": {},
          "execution_count": 42
        }
      ]
    },
    {
      "cell_type": "code",
      "execution_count": null,
      "metadata": {
        "colab": {
          "base_uri": "https://localhost:8080/"
        },
        "id": "j7aHR20ERTbZ",
        "outputId": "16986308-5333-44d4-d0c1-bbcc4e738a1d"
      },
      "outputs": [
        {
          "output_type": "stream",
          "name": "stdout",
          "text": [
            "AUCGCGGACAUGGGAAGGUGCCUUUUCGAUCUCACGAAAAGACGCGCGUCAUCCGGUAAGAGCUGCGGGCCACUAACCACGGCUGACGAUAGUACAUAAUCCGACGUGUGUCAUUACACGGGGGGGCAUACUACAUCAAUUAGUUCACCUGAGGGGUUCAUAAUGUACGGACUCUUAUCGAUCAGUUGUUUUCCGAAUAGACCACUGCCUUGCACGACGUUCAACGUGAAUUUAGAUCGUCACCUGACACCCAUGAGACACCCCAGAGUGCUGGUCUUGCACCUAGUCACUCUUGGUGGUCUGAACGUCCGCCAGGAGACAUAGGCCGUACUUGAGCAAUAACUUGGCGUGUGGCACGCAAUAGGCGGAACCCCGCGAGAUUUACGUUGGCUCAAUCGAGCACUUUAUCGAAGGACACUAUCCUCUACUGUUCUCGCAAUCGGUAUUCAAUGGCGCCCAACACCGGGCCAGUUUUUCUUAGUGAUACAUAUCACACCAUAAUGCGCUUAUUUACACCACGGCCCCAUCUUUUAGCAGCGACAUCGUGGAUGUUCAAGUAGGCCACGUUUGUAAUUCUGUUAGAGCACCUAGACCCACCCAGCCUGGGUAACGGCCUGAAGCUUCCCUAUCAGCUUGAAGCUACUAGACGCUUGGUGGGUCGCCUGGUAACUAAUACAACCGCGCCUUAAUACAGCUGGGAGCGGUAACGGUGUAAGGUGCCCGUUUCCCGGCGGAACUAGGACCUCGCGUGUUAUAUUGACAGCUACGCGCACGCUGCCUCAAGCGCCCCCUCUGUGUUGAAAGGUCCAGGCGUACUAGUUGACAUAGGUGCUCGUCAAAACUCACCAUGGAUCUGGGCGAUCUACAGCAGGUAAGAAUUCUAGGGUCUAUACAUUAAGAACGGGUCGUCGACA\n"
          ]
        }
      ],
      "source": [
        "rna = ''\n",
        "\n",
        "for i in seq:\n",
        "  if i == 'T': #in seq:\n",
        "    rna += 'U'\n",
        "  else:\n",
        "    rna += i\n",
        "\n",
        "print(rna)"
      ]
    },
    {
      "cell_type": "markdown",
      "source": [
        "##Outra forma de fazer utilizando a função replace"
      ],
      "metadata": {
        "id": "n5q4rs2ZyaSN"
      }
    },
    {
      "cell_type": "code",
      "source": [
        "seq.replace('T', 'U')\n",
        "#seq.replace('\\n', '')"
      ],
      "metadata": {
        "colab": {
          "base_uri": "https://localhost:8080/",
          "height": 177
        },
        "id": "9rbD4okIjVGV",
        "outputId": "8ff09ec4-1135-413b-931b-335fcbc79dcc"
      },
      "execution_count": null,
      "outputs": [
        {
          "output_type": "execute_result",
          "data": {
            "text/plain": [
              "'AUCGCGGACAUGGGAAGGUGCCUUUUCGAUCUCACGAAAAGACGCGCGUCAUCCGGUAAGAGCUGCGGGCCACUAACCACGGCUGACGAUAGUACAUAAUCCGACGUGUGUCAUUACACGGGGGGGCAUACUACAUCAAUUAGUUCACCUGAGGGGUUCAUAAUGUACGGACUCUUAUCGAUCAGUUGUUUUCCGAAUAGACCACUGCCUUGCACGACGUUCAACGUGAAUUUAGAUCGUCACCUGACACCCAUGAGACACCCCAGAGUGCUGGUCUUGCACCUAGUCACUCUUGGUGGUCUGAACGUCCGCCAGGAGACAUAGGCCGUACUUGAGCAAUAACUUGGCGUGUGGCACGCAAUAGGCGGAACCCCGCGAGAUUUACGUUGGCUCAAUCGAGCACUUUAUCGAAGGACACUAUCCUCUACUGUUCUCGCAAUCGGUAUUCAAUGGCGCCCAACACCGGGCCAGUUUUUCUUAGUGAUACAUAUCACACCAUAAUGCGCUUAUUUACACCACGGCCCCAUCUUUUAGCAGCGACAUCGUGGAUGUUCAAGUAGGCCACGUUUGUAAUUCUGUUAGAGCACCUAGACCCACCCAGCCUGGGUAACGGCCUGAAGCUUCCCUAUCAGCUUGAAGCUACUAGACGCUUGGUGGGUCGCCUGGUAACUAAUACAACCGCGCCUUAAUACAGCUGGGAGCGGUAACGGUGUAAGGUGCCCGUUUCCCGGCGGAACUAGGACCUCGCGUGUUAUAUUGACAGCUACGCGCACGCUGCCUCAAGCGCCCCCUCUGUGUUGAAAGGUCCAGGCGUACUAGUUGACAUAGGUGCUCGUCAAAACUCACCAUGGAUCUGGGCGAUCUACAGCAGGUAAGAAUUCUAGGGUCUAUACAUUAAGAACGGGUCGUCGACA'"
            ],
            "application/vnd.google.colaboratory.intrinsic+json": {
              "type": "string"
            }
          },
          "metadata": {},
          "execution_count": 43
        }
      ]
    }
  ],
  "metadata": {
    "colab": {
      "provenance": []
    },
    "kernelspec": {
      "display_name": "Python 3",
      "name": "python3"
    },
    "language_info": {
      "name": "python"
    }
  },
  "nbformat": 4,
  "nbformat_minor": 0
}