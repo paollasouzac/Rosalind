{
  "nbformat": 4,
  "nbformat_minor": 0,
  "metadata": {
    "colab": {
      "provenance": []
    },
    "kernelspec": {
      "name": "python3",
      "display_name": "Python 3"
    },
    "language_info": {
      "name": "python"
    }
  },
  "cells": [
    {
      "cell_type": "code",
      "source": [
        "# Mount Google Drive\n",
        "from google.colab import drive # import drive from google colab\n",
        "\n",
        "ROOT = \"/content/drive\"     # default location for the drive\n",
        "print(ROOT)                 # print content of ROOT (Optional)\n",
        "\n",
        "drive.mount(ROOT)           # we mount the google drive at /content/drive"
      ],
      "metadata": {
        "colab": {
          "base_uri": "https://localhost:8080/"
        },
        "id": "yROhdlKfU_c0",
        "outputId": "f6a967c2-c380-4ce5-c6ba-569670c0cf5d"
      },
      "execution_count": 10,
      "outputs": [
        {
          "output_type": "stream",
          "name": "stdout",
          "text": [
            "/content/drive\n",
            "Mounted at /content/drive\n"
          ]
        }
      ]
    },
    {
      "cell_type": "code",
      "source": [
        "#Open the input file\n",
        "with open('/content/drive/MyDrive/Rosalind/data/rosalind_subs.txt', 'r') as f:\n",
        "    data = f.read() # Read all file in case values are not on a single line\n",
        "    print(data)"
      ],
      "metadata": {
        "colab": {
          "base_uri": "https://localhost:8080/"
        },
        "id": "5q2mdG_gVKJ7",
        "outputId": "29b63a66-2f39-40b3-bd30-1389ff03d46b"
      },
      "execution_count": 13,
      "outputs": [
        {
          "output_type": "stream",
          "name": "stdout",
          "text": [
            "TCAGTATCTCAGTATCGCTCAGTATATCAGTATGCACTCAGTATCATCAGTATCTGTGCTCAGTATCTCAGTATCCGGACTGACGACTCAGTATGCGTCAGTATTGTCAGTATAATCAGTATTCAGTATGGTCAGTATTCCTATTCAGTATTCAGTATTCAGTATTCAGTATTCAGTATTCAGTATATTCCGCTCAGTATTCAGTATTCAGTATTCAGTATTTTCAGTATTTCTCAGTATGGCAGTCAGTATTACGTCAGTATTCAGTATTGGTCAGTATTAGGATCAGTATATGTCAGTATGTCAGTATCGGAAGTCAGTATTCAGTATCGACGAGTTGCTCAGTATTCAGTATTATCAGTATTAGCTCAGTATAACTCAGTATGCTTGAATCAGTATCCGCTTCCTCAGTATCTCAGTATCGACTGATCAGTATAATTTCAGTATTTGATCAGTATTCAGTATCGACGTCAGTATTTCAGTATTCAGTATTCAGTATTCAGTATTCTCAGTATTCGTTCAGTATATCAGTATGTTTCAGTATTCAGTATAGGTCAGTATATTCAGTATTCAGTATTCAGTATCGTCAGTATTCAGTATCTCAGTATGTGTCGTCTCAGTATTCTTGGATCAGTATTTACCATCCCCGGTCAGTATTGTCAGTATGTTCAGTATTCAGTATAGTTGCCAATTCAGTATATCAGTATCATCAGTATCAAAAGTCAGTATCTTCAGTATTCAGTATTCAGTATGTCAGTATAAATCAGTATTTCAGTATCATCAGTATATCAGTATTCAGTATAGTCAGTATCAGTCAGTAT\n",
            "TCAGTATTC\n",
            "\n"
          ]
        }
      ]
    },
    {
      "cell_type": "code",
      "execution_count": null,
      "metadata": {
        "id": "hCv3XodY_0xp"
      },
      "outputs": [],
      "source": [
        "example = 'AGCTTTTCATTCTGACTGCAACGGGCAATATGTCTCTGTGTGGATTAAAAAAAGAGTGTCTGATAGCAGC'\n",
        "nucleotide_A = 0\n",
        "nucleotide_T = 0\n",
        "nucleotide_C = 0\n",
        "nucleotide_G = 0\n",
        "\n",
        "for i in example:\n",
        "  if i == 'A':\n",
        "    nucleotide_A += 1\n",
        "  elif i == 'T':\n",
        "    nucleotide_T += 1\n",
        "  elif i == 'C':\n",
        "    nucleotide_C += 1\n",
        "  elif i == 'G':\n",
        "    nucleotide_G += 1\n",
        "        \n",
        "print(nucleotide_A, nucleotide_C, nucleotide_G, nucleotide_T)"
      ]
    },
    {
      "cell_type": "code",
      "source": [
        "#Method 1: Dictionary\n",
        "nucl = {}\n",
        "for i in data:\n",
        "  if i in nucl:\n",
        "    nucl[i] += 1\n",
        "  else:\n",
        "    nucl[i] = 1\n",
        "print(nucl[\"A\"], nucl[\"T\"], nucl[\"C\"], nucl[\"G\"])"
      ],
      "metadata": {
        "id": "MQowBM8v-9Mq",
        "outputId": "b360cc53-fc02-4045-d763-f84f51c3eaf2",
        "colab": {
          "base_uri": "https://localhost:8080/"
        }
      },
      "execution_count": 14,
      "outputs": [
        {
          "output_type": "stream",
          "name": "stdout",
          "text": [
            "225 312 147 146\n"
          ]
        }
      ]
    },
    {
      "cell_type": "code",
      "source": [],
      "metadata": {
        "colab": {
          "base_uri": "https://localhost:8080/"
        },
        "id": "vU9tX6FOAQ64",
        "outputId": "77c9dada-2ca0-4920-8123-d6e682b648b6"
      },
      "execution_count": null,
      "outputs": [
        {
          "output_type": "stream",
          "name": "stdout",
          "text": [
            "20 12 17 21\n"
          ]
        }
      ]
    },
    {
      "cell_type": "code",
      "source": [
        "from collections import defaultdict\n",
        "\n",
        "amostra = data\n",
        "chars = defaultdict(int)\n",
        "\n",
        "for char in amostra:\n",
        "  chars[char] += 1\n",
        "\n",
        "print(chars[\"A\"], chars[\"T\"], chars[\"C\"], chars[\"G\"])"
      ],
      "metadata": {
        "colab": {
          "base_uri": "https://localhost:8080/"
        },
        "id": "tNL0evs0BThG",
        "outputId": "40ea1361-5b06-4928-bc93-fd745b644c04"
      },
      "execution_count": 16,
      "outputs": [
        {
          "output_type": "stream",
          "name": "stdout",
          "text": [
            "225 312 147 146\n"
          ]
        }
      ]
    }
  ]
}